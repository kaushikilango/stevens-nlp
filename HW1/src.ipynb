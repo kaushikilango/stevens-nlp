{
 "cells": [
  {
   "cell_type": "code",
   "execution_count": 4,
   "metadata": {},
   "outputs": [],
   "source": [
    "## The following are few details about the approach taken to solve the problem:\n",
    "## 1. I have used the data as is to predict into 5 classes and not a binary classification problem."
   ]
  },
  {
   "cell_type": "code",
   "execution_count": 1,
   "metadata": {},
   "outputs": [],
   "source": [
    "##Importing the essentiual libraries\n",
    "import pandas as pd\n",
    "import string\n",
    "import numpy as np"
   ]
  },
  {
   "cell_type": "code",
   "execution_count": 2,
   "metadata": {},
   "outputs": [],
   "source": [
    "## 1. Data Preparation\n",
    "## 1.1 Data Preprocessing\n",
    "reviews = pd.read_csv('amazon_reviews.csv')\n",
    "reviews.reviewText = reviews.reviewText.fillna('NA')"
   ]
  },
  {
   "cell_type": "code",
   "execution_count": 3,
   "metadata": {},
   "outputs": [],
   "source": [
    "def load_embedding_model():\n",
    "    import gensim.downloader as api\n",
    "    wv_from_bin = api.load(\"glove-wiki-gigaword-300\")\n",
    "    print(\"loaded vocab size %i\"% len(wv_from_bin.index_to_key))   \n",
    "    return wv_from_bin"
   ]
  },
  {
   "cell_type": "code",
   "execution_count": 4,
   "metadata": {},
   "outputs": [
    {
     "name": "stdout",
     "output_type": "stream",
     "text": [
      "loaded vocab size 400000\n"
     ]
    }
   ],
   "source": [
    "wv_from_bin = load_embedding_model()"
   ]
  },
  {
   "cell_type": "code",
   "execution_count": 5,
   "metadata": {},
   "outputs": [],
   "source": [
    "def get_matrix_of_vectors(wv_from_bin, required_words):\n",
    "    import random\n",
    "    words = list(wv_from_bin.index_to_key)\n",
    "    print(\"Shuffling words ... \")\n",
    "    random.seed(225)\n",
    "    random.shuffle(words)\n",
    "    words = words[:10000]\n",
    "    print(\"Putting %i words into word2ind and matrix M...\" % len(words))\n",
    "    word2ind = {}\n",
    "    M = []\n",
    "    curInd = 0\n",
    "    for w in words:\n",
    "        try:\n",
    "            M.append(wv_from_bin.get_vector(w))\n",
    "            word2ind[w] = curInd\n",
    "            curInd += 1\n",
    "        except KeyError:\n",
    "            continue\n",
    "    for w in required_words:\n",
    "        if w in words:\n",
    "            continue\n",
    "        try:\n",
    "            M.append(wv_from_bin.get_vector(w))\n",
    "            word2ind[w] = curInd\n",
    "            curInd += 1\n",
    "        except KeyError:\n",
    "            continue\n",
    "    M = np.stack(M)\n",
    "    print(\"Done.\")\n",
    "    return M, word2ind"
   ]
  },
  {
   "cell_type": "code",
   "execution_count": 6,
   "metadata": {},
   "outputs": [],
   "source": [
    "from nltk.tokenize import RegexpTokenizer\n",
    "def clean_data(corpus):\n",
    "    print(\"Cleaning data ... \")\n",
    "    cleaned_corpus = []\n",
    "    for doc in corpus:\n",
    "        tokenizer = RegexpTokenizer(r'\\w+')\n",
    "        cleaned_corpus.append(tokenizer.tokenize(doc.lower()))\n",
    "    return cleaned_corpus"
   ]
  },
  {
   "cell_type": "code",
   "execution_count": 7,
   "metadata": {},
   "outputs": [],
   "source": [
    "def get_vocab(corpus):\n",
    "    corpus_words = [x for line in corpus for x in line]\n",
    "    corpus_words = list(set(corpus_words))\n",
    "    corpus_words = sorted(corpus_words)\n",
    "    return corpus_words"
   ]
  },
  {
   "cell_type": "code",
   "execution_count": 8,
   "metadata": {},
   "outputs": [
    {
     "data": {
      "text/plain": [
       "[' ', 'a', 'b', 'd', 'e', 'g', 'h', 'i', 'r', 's', 't', 'v', 'w']"
      ]
     },
     "execution_count": 8,
     "metadata": {},
     "output_type": "execute_result"
    }
   ],
   "source": [
    "get_vocab([\"this is a great review\", \"this is a bad review\"])\n",
    "\n",
    "## test corpus"
   ]
  },
  {
   "cell_type": "code",
   "execution_count": 9,
   "metadata": {},
   "outputs": [],
   "source": [
    "def compute_co_occurence_matrix(corpus,window_size = 4):\n",
    "    word2idx = {}\n",
    "    print(\"Computing co-occurrence matrix...\")\n",
    "    print(\"Counting words...\")\n",
    "    sorted_corpus = get_vocab(corpus)\n",
    "    for i in sorted_corpus:\n",
    "        word2idx[i] = sorted_corpus.index(i)\n",
    "    print(f\"Number of unique words {len(sorted_corpus)}\")\n",
    "    x = len(sorted_corpus)\n",
    "    M = np.zeros((x,x),dtype = 'float32')\n",
    "    print(M.shape)\n",
    "    print(\"Computing pairs...\")\n",
    "    for review in corpus:\n",
    "        for i in range(len(review)):\n",
    "            for j in range(max(0,i-window_size),min(i+window_size,len(review))):\n",
    "                if i!=j:\n",
    "                    M[word2idx[review[i]],word2idx[review[j]]] += 1\n",
    "    return M,word2idx\n"
   ]
  },
  {
   "cell_type": "code",
   "execution_count": 10,
   "metadata": {},
   "outputs": [],
   "source": [
    "from sklearn.decomposition import TruncatedSVD\n",
    "def reduce_to_k_dim(M,k=2):\n",
    "    print(\"Running Truncated SVD over %i words...\" % (M.shape[0]))\n",
    "    svd = TruncatedSVD(n_iter= 10, n_components=k, random_state=42)\n",
    "    return svd.fit_transform(M)"
   ]
  },
  {
   "cell_type": "code",
   "execution_count": 11,
   "metadata": {},
   "outputs": [],
   "source": [
    "from matplotlib import pyplot as plt\n",
    "def plot_embeddings(M,word2index,words_to_plot):\n",
    "    for w in words_to_plot:\n",
    "        i = word2index[w]\n",
    "        plt.scatter(M[i][0],M[i][1],marker='o',color='green')\n",
    "        plt.annotate(w, (M[i][0],M[i][1]), arrowprops=dict(arrowstyle=\"->\"))"
   ]
  },
  {
   "cell_type": "code",
   "execution_count": 12,
   "metadata": {},
   "outputs": [
    {
     "name": "stdout",
     "output_type": "stream",
     "text": [
      "Cleaning data ... \n",
      "Computing co-occurrence matrix...\n",
      "Counting words...\n",
      "Number of unique words 8516\n",
      "(8516, 8516)\n",
      "Computing pairs...\n",
      "(8516, 8516)\n"
     ]
    }
   ],
   "source": [
    "corpus = reviews['reviewText'].fillna('').tolist()\n",
    "corpus = clean_data(corpus)\n",
    "vocab = get_vocab(corpus)\n",
    "M,w2i = compute_co_occurence_matrix(corpus)\n",
    "print(M.shape)"
   ]
  },
  {
   "cell_type": "code",
   "execution_count": 13,
   "metadata": {},
   "outputs": [
    {
     "name": "stdout",
     "output_type": "stream",
     "text": [
      "Running Truncated SVD over 8516 words...\n"
     ]
    }
   ],
   "source": [
    "M = reduce_to_k_dim(M)"
   ]
  },
  {
   "cell_type": "code",
   "execution_count": 14,
   "metadata": {},
   "outputs": [
    {
     "name": "stdout",
     "output_type": "stream",
     "text": [
      "Shuffling words ... \n",
      "Putting 10000 words into word2ind and matrix M...\n",
      "Done.\n"
     ]
    }
   ],
   "source": [
    "M_2,w2i_2 = get_matrix_of_vectors(wv_from_bin,vocab)"
   ]
  },
  {
   "cell_type": "code",
   "execution_count": 15,
   "metadata": {},
   "outputs": [
    {
     "name": "stdout",
     "output_type": "stream",
     "text": [
      "Running Truncated SVD over 16857 words...\n"
     ]
    }
   ],
   "source": [
    "M_2 = reduce_to_k_dim(M_2)"
   ]
  },
  {
   "cell_type": "code",
   "execution_count": 16,
   "metadata": {},
   "outputs": [
    {
     "data": {
      "image/png": "[encoded data removed]",
      "text/plain": [
       "<Figure size 640x480 with 1 Axes>"
      ]
     },
     "metadata": {},
     "output_type": "display_data"
    }
   ],
   "source": [
    "plot_embeddings(M_2,w2i_2,['purchase','buy','work','got','ordered','received','product','item','deal','use'])"
   ]
  },
  {
   "cell_type": "code",
   "execution_count": 17,
   "metadata": {},
   "outputs": [
    {
     "data": {
      "image/png": "[encoded data removed]",
      "text/plain": [
       "<Figure size 640x480 with 1 Axes>"
      ]
     },
     "metadata": {},
     "output_type": "display_data"
    }
   ],
   "source": [
    "plot_embeddings(M,w2i,['purchase','buy','work','got','ordered','received','product','item','deal','use'])"
   ]
  },
  {
   "cell_type": "code",
   "execution_count": 18,
   "metadata": {},
   "outputs": [],
   "source": [
    "def review_embeddings(corpus, word2index, M):\n",
    "\n",
    "    M_reduced = reduce_to_k_dim(M,k = 128)\n",
    "    print(f'Shape of the reduced matrix is {M_reduced.shape}')\n",
    "    corpus_embeddings = []\n",
    "    print(\"Computing corpus embeddings...\")\n",
    "    for review in corpus:\n",
    "        corpus_embedding = np.mean([M_reduced[word2index[w]] for w in review],axis=0)\n",
    "        corpus_embeddings.append(corpus_embedding)\n",
    "    print(\"Done.\")\n",
    "    print(f\"Shape of the corpus embeddings is {(np.array(corpus_embeddings).shape)}\")\n",
    "    return corpus_embeddings        "
   ]
  },
  {
   "cell_type": "code",
   "execution_count": 19,
   "metadata": {},
   "outputs": [
    {
     "name": "stdout",
     "output_type": "stream",
     "text": [
      "Cleaning data ... \n"
     ]
    }
   ],
   "source": [
    "full_corpus = reviews['reviewText']\n",
    "full_corpus = clean_data(full_corpus)"
   ]
  },
  {
   "cell_type": "code",
   "execution_count": 20,
   "metadata": {},
   "outputs": [
    {
     "name": "stdout",
     "output_type": "stream",
     "text": [
      "Computing co-occurrence matrix...\n",
      "Counting words...\n",
      "Number of unique words 8516\n",
      "(8516, 8516)\n",
      "Computing pairs...\n",
      "(8516, 8516)\n",
      "Running Truncated SVD over 8516 words...\n",
      "Shape of the reduced matrix is (8516, 128)\n",
      "Computing corpus embeddings...\n",
      "Done.\n",
      "Shape of the corpus embeddings is (4915, 128)\n"
     ]
    }
   ],
   "source": [
    "M,word2index = compute_co_occurence_matrix(full_corpus)\n",
    "print(M.shape)\n",
    "corpus_embeddings = review_embeddings(full_corpus,word2index,M)"
   ]
  },
  {
   "cell_type": "code",
   "execution_count": 21,
   "metadata": {},
   "outputs": [],
   "source": [
    "X = np.array(corpus_embeddings)\n",
    "y = reviews['overall']\n",
    "from sklearn.model_selection import train_test_split\n",
    "X_train,X_test,y_train,y_test = train_test_split(X,y,test_size=0.2)\n",
    "X_test,X_val,y_test,y_val = train_test_split(X_test,y_test,test_size=0.5)"
   ]
  },
  {
   "cell_type": "code",
   "execution_count": 22,
   "metadata": {},
   "outputs": [
    {
     "name": "stdout",
     "output_type": "stream",
     "text": [
      "Total number of reviews for this product is:  4915\n",
      "Number of reviews in training set is:  3932\n",
      "Number of reviews in validation set is:  492\n",
      "Number of reviews in test set is:  491\n"
     ]
    }
   ],
   "source": [
    "print('Total number of reviews for this product is: ', reviews.shape[0])\n",
    "print('Number of reviews in training set is: ', X_train.shape[0])\n",
    "print('Number of reviews in validation set is: ', X_val.shape[0])\n",
    "print('Number of reviews in test set is: ', X_test.shape[0])"
   ]
  },
  {
   "cell_type": "code",
   "execution_count": 24,
   "metadata": {},
   "outputs": [
    {
     "name": "stdout",
     "output_type": "stream",
     "text": [
      "0.7942973523421588\n"
     ]
    }
   ],
   "source": [
    "from sklearn.linear_model import LogisticRegression\n",
    "regressor = LogisticRegression(solver='lbfgs' ,multi_class='ovr',max_iter=10000)\n",
    "regressor.fit(X_train,y_train)\n",
    "y_pred = regressor.predict(X_test)\n",
    "y_pred = np.round(y_pred)\n",
    "from sklearn.metrics import accuracy_score\n",
    "print(accuracy_score(y_test,y_pred))"
   ]
  },
  {
   "cell_type": "code",
   "execution_count": 25,
   "metadata": {},
   "outputs": [
    {
     "name": "stdout",
     "output_type": "stream",
     "text": [
      "Model: \"sequential\"\n",
      "_________________________________________________________________\n",
      " Layer (type)                Output Shape              Param #   \n",
      "=================================================================\n",
      " dense (Dense)               (None, 64)                8256      \n",
      "                                                                 \n",
      " dense_1 (Dense)             (None, 32)                2080      \n",
      "                                                                 \n",
      " dense_2 (Dense)             (None, 16)                528       \n",
      "                                                                 \n",
      " dense_3 (Dense)             (None, 6)                 102       \n",
      "                                                                 \n",
      "=================================================================\n",
      "Total params: 10966 (42.84 KB)\n",
      "Trainable params: 10966 (42.84 KB)\n",
      "Non-trainable params: 0 (0.00 Byte)\n",
      "_________________________________________________________________\n"
     ]
    }
   ],
   "source": [
    "import tensorflow as tf\n",
    "from tensorflow import keras\n",
    "from tensorflow.keras import layers\n",
    "\n",
    "model = keras.Sequential([\n",
    "    layers.Input(shape=(128,)),\n",
    "    layers.Dense(64, activation='relu'),\n",
    "    layers.Dense(32, activation='relu'),\n",
    "    layers.Dense(16, activation='relu'),\n",
    "    layers.Dense(6, activation='softmax')\n",
    "])\n",
    "\n",
    "model.compile(optimizer='sgd',loss='sparse_categorical_crossentropy',metrics=['accuracy'])\n",
    "\n",
    "model.summary()\n",
    "\n"
   ]
  },
  {
   "cell_type": "code",
   "execution_count": 26,
   "metadata": {},
   "outputs": [
    {
     "name": "stdout",
     "output_type": "stream",
     "text": [
      "Epoch 1/100\n",
      "123/123 [==============================] - 1s 3ms/step - loss: 69792.7109 - accuracy: 0.7828 - val_loss: 1.3237 - val_accuracy: 0.8008\n",
      "Epoch 2/100\n",
      "123/123 [==============================] - 0s 2ms/step - loss: 1.1806 - accuracy: 0.7988 - val_loss: 1.0614 - val_accuracy: 0.8008\n",
      "Epoch 3/100\n",
      "123/123 [==============================] - 0s 2ms/step - loss: 0.9916 - accuracy: 0.7988 - val_loss: 0.9313 - val_accuracy: 0.8008\n",
      "Epoch 4/100\n",
      "123/123 [==============================] - 0s 2ms/step - loss: 0.8982 - accuracy: 0.7988 - val_loss: 0.8661 - val_accuracy: 0.8008\n",
      "Epoch 5/100\n",
      "123/123 [==============================] - 0s 2ms/step - loss: 0.8502 - accuracy: 0.7988 - val_loss: 0.8314 - val_accuracy: 0.8008\n",
      "Epoch 6/100\n",
      "123/123 [==============================] - 0s 2ms/step - loss: 0.8235 - accuracy: 0.7988 - val_loss: 0.8111 - val_accuracy: 0.8008\n",
      "Epoch 7/100\n",
      "123/123 [==============================] - 0s 2ms/step - loss: 0.8075 - accuracy: 0.7988 - val_loss: 0.7986 - val_accuracy: 0.8008\n",
      "Epoch 8/100\n",
      "123/123 [==============================] - 0s 2ms/step - loss: 0.7970 - accuracy: 0.7988 - val_loss: 0.7901 - val_accuracy: 0.8008\n",
      "Epoch 9/100\n",
      "123/123 [==============================] - 0s 2ms/step - loss: 0.7897 - accuracy: 0.7988 - val_loss: 0.7840 - val_accuracy: 0.8008\n",
      "Epoch 10/100\n",
      "123/123 [==============================] - 0s 2ms/step - loss: 0.7843 - accuracy: 0.7988 - val_loss: 0.7794 - val_accuracy: 0.8008\n",
      "Epoch 11/100\n",
      "123/123 [==============================] - 0s 2ms/step - loss: 0.7801 - accuracy: 0.7988 - val_loss: 0.7758 - val_accuracy: 0.8008\n",
      "Epoch 12/100\n",
      "123/123 [==============================] - 0s 2ms/step - loss: 0.7766 - accuracy: 0.7988 - val_loss: 0.7728 - val_accuracy: 0.8008\n",
      "Epoch 13/100\n",
      "123/123 [==============================] - 0s 2ms/step - loss: 0.7736 - accuracy: 0.7988 - val_loss: 0.7702 - val_accuracy: 0.8008\n",
      "Epoch 14/100\n",
      "123/123 [==============================] - 0s 2ms/step - loss: 0.7711 - accuracy: 0.7988 - val_loss: 0.7680 - val_accuracy: 0.8008\n",
      "Epoch 15/100\n",
      "123/123 [==============================] - 0s 2ms/step - loss: 0.7689 - accuracy: 0.7988 - val_loss: 0.7661 - val_accuracy: 0.8008\n",
      "Epoch 16/100\n",
      "123/123 [==============================] - 0s 2ms/step - loss: 0.7669 - accuracy: 0.7988 - val_loss: 0.7645 - val_accuracy: 0.8008\n",
      "Epoch 17/100\n",
      "123/123 [==============================] - 0s 2ms/step - loss: 0.7652 - accuracy: 0.7988 - val_loss: 0.7630 - val_accuracy: 0.8008\n",
      "Epoch 18/100\n",
      "123/123 [==============================] - 0s 2ms/step - loss: 0.7636 - accuracy: 0.7988 - val_loss: 0.7617 - val_accuracy: 0.8008\n",
      "Epoch 19/100\n",
      "123/123 [==============================] - 0s 2ms/step - loss: 0.7622 - accuracy: 0.7988 - val_loss: 0.7605 - val_accuracy: 0.8008\n",
      "Epoch 20/100\n",
      "123/123 [==============================] - 0s 2ms/step - loss: 0.7609 - accuracy: 0.7988 - val_loss: 0.7595 - val_accuracy: 0.8008\n",
      "Epoch 21/100\n",
      "123/123 [==============================] - 0s 2ms/step - loss: 0.7597 - accuracy: 0.7988 - val_loss: 0.7585 - val_accuracy: 0.8008\n",
      "Epoch 22/100\n",
      "123/123 [==============================] - 0s 2ms/step - loss: 0.7587 - accuracy: 0.7988 - val_loss: 0.7577 - val_accuracy: 0.8008\n",
      "Epoch 23/100\n",
      "123/123 [==============================] - 0s 2ms/step - loss: 0.7577 - accuracy: 0.7988 - val_loss: 0.7569 - val_accuracy: 0.8008\n",
      "Epoch 24/100\n",
      "123/123 [==============================] - 0s 2ms/step - loss: 0.7568 - accuracy: 0.7988 - val_loss: 0.7562 - val_accuracy: 0.8008\n",
      "Epoch 25/100\n",
      "123/123 [==============================] - 0s 2ms/step - loss: 0.7560 - accuracy: 0.7988 - val_loss: 0.7556 - val_accuracy: 0.8008\n",
      "Epoch 26/100\n",
      "123/123 [==============================] - 0s 2ms/step - loss: 0.7553 - accuracy: 0.7988 - val_loss: 0.7550 - val_accuracy: 0.8008\n",
      "Epoch 27/100\n",
      "123/123 [==============================] - 0s 2ms/step - loss: 0.7546 - accuracy: 0.7988 - val_loss: 0.7544 - val_accuracy: 0.8008\n",
      "Epoch 28/100\n",
      "123/123 [==============================] - 0s 2ms/step - loss: 0.7539 - accuracy: 0.7988 - val_loss: 0.7540 - val_accuracy: 0.8008\n",
      "Epoch 29/100\n",
      "123/123 [==============================] - 0s 2ms/step - loss: 0.7533 - accuracy: 0.7988 - val_loss: 0.7535 - val_accuracy: 0.8008\n",
      "Epoch 30/100\n",
      "123/123 [==============================] - 0s 2ms/step - loss: 0.7528 - accuracy: 0.7988 - val_loss: 0.7531 - val_accuracy: 0.8008\n",
      "Epoch 31/100\n",
      "123/123 [==============================] - 0s 2ms/step - loss: 0.7522 - accuracy: 0.7988 - val_loss: 0.7527 - val_accuracy: 0.8008\n",
      "Epoch 32/100\n",
      "123/123 [==============================] - 0s 2ms/step - loss: 0.7518 - accuracy: 0.7988 - val_loss: 0.7524 - val_accuracy: 0.8008\n",
      "Epoch 33/100\n",
      "123/123 [==============================] - 0s 2ms/step - loss: 0.7513 - accuracy: 0.7988 - val_loss: 0.7520 - val_accuracy: 0.8008\n",
      "Epoch 34/100\n",
      "123/123 [==============================] - 0s 2ms/step - loss: 0.7509 - accuracy: 0.7988 - val_loss: 0.7517 - val_accuracy: 0.8008\n",
      "Epoch 35/100\n",
      "123/123 [==============================] - 0s 2ms/step - loss: 0.7504 - accuracy: 0.7988 - val_loss: 0.7515 - val_accuracy: 0.8008\n",
      "Epoch 36/100\n",
      "123/123 [==============================] - 0s 2ms/step - loss: 0.7501 - accuracy: 0.7988 - val_loss: 0.7512 - val_accuracy: 0.8008\n",
      "Epoch 37/100\n",
      "123/123 [==============================] - 0s 2ms/step - loss: 0.7497 - accuracy: 0.7988 - val_loss: 0.7510 - val_accuracy: 0.8008\n",
      "Epoch 38/100\n",
      "123/123 [==============================] - 0s 2ms/step - loss: 0.7494 - accuracy: 0.7988 - val_loss: 0.7507 - val_accuracy: 0.8008\n",
      "Epoch 39/100\n",
      "123/123 [==============================] - 0s 2ms/step - loss: 0.7490 - accuracy: 0.7988 - val_loss: 0.7505 - val_accuracy: 0.8008\n",
      "Epoch 40/100\n",
      "123/123 [==============================] - 0s 2ms/step - loss: 0.7487 - accuracy: 0.7988 - val_loss: 0.7503 - val_accuracy: 0.8008\n",
      "Epoch 41/100\n",
      "123/123 [==============================] - 0s 2ms/step - loss: 0.7484 - accuracy: 0.7988 - val_loss: 0.7501 - val_accuracy: 0.8008\n",
      "Epoch 42/100\n",
      "123/123 [==============================] - 0s 2ms/step - loss: 0.7482 - accuracy: 0.7988 - val_loss: 0.7499 - val_accuracy: 0.8008\n",
      "Epoch 43/100\n",
      "123/123 [==============================] - 0s 2ms/step - loss: 0.7479 - accuracy: 0.7988 - val_loss: 0.7498 - val_accuracy: 0.8008\n",
      "Epoch 44/100\n",
      "123/123 [==============================] - 0s 2ms/step - loss: 0.7476 - accuracy: 0.7988 - val_loss: 0.7496 - val_accuracy: 0.8008\n",
      "Epoch 45/100\n",
      "123/123 [==============================] - 0s 2ms/step - loss: 0.7474 - accuracy: 0.7988 - val_loss: 0.7495 - val_accuracy: 0.8008\n",
      "Epoch 46/100\n",
      "123/123 [==============================] - 0s 2ms/step - loss: 0.7472 - accuracy: 0.7988 - val_loss: 0.7493 - val_accuracy: 0.8008\n",
      "Epoch 47/100\n",
      "123/123 [==============================] - 0s 2ms/step - loss: 0.7469 - accuracy: 0.7988 - val_loss: 0.7492 - val_accuracy: 0.8008\n",
      "Epoch 48/100\n",
      "123/123 [==============================] - 0s 2ms/step - loss: 0.7467 - accuracy: 0.7988 - val_loss: 0.7491 - val_accuracy: 0.8008\n",
      "Epoch 49/100\n",
      "123/123 [==============================] - 0s 2ms/step - loss: 0.7465 - accuracy: 0.7988 - val_loss: 0.7489 - val_accuracy: 0.8008\n",
      "Epoch 50/100\n",
      "123/123 [==============================] - 0s 2ms/step - loss: 0.7463 - accuracy: 0.7988 - val_loss: 0.7488 - val_accuracy: 0.8008\n",
      "Epoch 51/100\n",
      "123/123 [==============================] - 0s 2ms/step - loss: 0.7461 - accuracy: 0.7988 - val_loss: 0.7487 - val_accuracy: 0.8008\n",
      "Epoch 52/100\n",
      "123/123 [==============================] - 0s 2ms/step - loss: 0.7459 - accuracy: 0.7988 - val_loss: 0.7486 - val_accuracy: 0.8008\n",
      "Epoch 53/100\n",
      "123/123 [==============================] - 0s 2ms/step - loss: 0.7457 - accuracy: 0.7988 - val_loss: 0.7485 - val_accuracy: 0.8008\n",
      "Epoch 54/100\n",
      "123/123 [==============================] - 0s 2ms/step - loss: 0.7456 - accuracy: 0.7988 - val_loss: 0.7484 - val_accuracy: 0.8008\n",
      "Epoch 55/100\n",
      "123/123 [==============================] - 0s 2ms/step - loss: 0.7454 - accuracy: 0.7988 - val_loss: 0.7483 - val_accuracy: 0.8008\n",
      "Epoch 56/100\n",
      "123/123 [==============================] - 0s 2ms/step - loss: 0.7453 - accuracy: 0.7988 - val_loss: 0.7483 - val_accuracy: 0.8008\n",
      "Epoch 57/100\n",
      "123/123 [==============================] - 0s 2ms/step - loss: 0.7451 - accuracy: 0.7988 - val_loss: 0.7482 - val_accuracy: 0.8008\n",
      "Epoch 58/100\n",
      "123/123 [==============================] - 0s 2ms/step - loss: 0.7449 - accuracy: 0.7988 - val_loss: 0.7481 - val_accuracy: 0.8008\n",
      "Epoch 59/100\n",
      "123/123 [==============================] - 0s 2ms/step - loss: 0.7448 - accuracy: 0.7988 - val_loss: 0.7480 - val_accuracy: 0.8008\n",
      "Epoch 60/100\n",
      "123/123 [==============================] - 0s 2ms/step - loss: 0.7447 - accuracy: 0.7988 - val_loss: 0.7479 - val_accuracy: 0.8008\n",
      "Epoch 61/100\n",
      "123/123 [==============================] - 0s 2ms/step - loss: 0.7445 - accuracy: 0.7988 - val_loss: 0.7479 - val_accuracy: 0.8008\n",
      "Epoch 62/100\n",
      "123/123 [==============================] - 0s 2ms/step - loss: 0.7444 - accuracy: 0.7988 - val_loss: 0.7478 - val_accuracy: 0.8008\n",
      "Epoch 63/100\n",
      "123/123 [==============================] - 0s 2ms/step - loss: 0.7443 - accuracy: 0.7988 - val_loss: 0.7477 - val_accuracy: 0.8008\n",
      "Epoch 64/100\n",
      "123/123 [==============================] - 0s 2ms/step - loss: 0.7441 - accuracy: 0.7988 - val_loss: 0.7477 - val_accuracy: 0.8008\n",
      "Epoch 65/100\n",
      "123/123 [==============================] - 0s 2ms/step - loss: 0.7440 - accuracy: 0.7988 - val_loss: 0.7476 - val_accuracy: 0.8008\n",
      "Epoch 66/100\n",
      "123/123 [==============================] - 0s 2ms/step - loss: 0.7439 - accuracy: 0.7988 - val_loss: 0.7476 - val_accuracy: 0.8008\n",
      "Epoch 67/100\n",
      "123/123 [==============================] - 0s 2ms/step - loss: 0.7438 - accuracy: 0.7988 - val_loss: 0.7475 - val_accuracy: 0.8008\n",
      "Epoch 68/100\n",
      "123/123 [==============================] - 0s 2ms/step - loss: 0.7437 - accuracy: 0.7988 - val_loss: 0.7475 - val_accuracy: 0.8008\n",
      "Epoch 69/100\n",
      "123/123 [==============================] - 0s 2ms/step - loss: 0.7436 - accuracy: 0.7988 - val_loss: 0.7474 - val_accuracy: 0.8008\n",
      "Epoch 70/100\n",
      "123/123 [==============================] - 0s 2ms/step - loss: 0.7435 - accuracy: 0.7988 - val_loss: 0.7474 - val_accuracy: 0.8008\n",
      "Epoch 71/100\n",
      "123/123 [==============================] - 0s 2ms/step - loss: 0.7434 - accuracy: 0.7988 - val_loss: 0.7473 - val_accuracy: 0.8008\n",
      "Epoch 72/100\n",
      "123/123 [==============================] - 0s 2ms/step - loss: 0.7433 - accuracy: 0.7988 - val_loss: 0.7473 - val_accuracy: 0.8008\n",
      "Epoch 73/100\n",
      "123/123 [==============================] - 0s 2ms/step - loss: 0.7432 - accuracy: 0.7988 - val_loss: 0.7472 - val_accuracy: 0.8008\n",
      "Epoch 74/100\n",
      "123/123 [==============================] - 0s 2ms/step - loss: 0.7431 - accuracy: 0.7988 - val_loss: 0.7472 - val_accuracy: 0.8008\n",
      "Epoch 75/100\n",
      "123/123 [==============================] - 0s 2ms/step - loss: 0.7430 - accuracy: 0.7988 - val_loss: 0.7471 - val_accuracy: 0.8008\n",
      "Epoch 76/100\n",
      "123/123 [==============================] - 0s 2ms/step - loss: 0.7429 - accuracy: 0.7988 - val_loss: 0.7471 - val_accuracy: 0.8008\n",
      "Epoch 77/100\n",
      "123/123 [==============================] - 0s 2ms/step - loss: 0.7428 - accuracy: 0.7988 - val_loss: 0.7470 - val_accuracy: 0.8008\n",
      "Epoch 78/100\n",
      "123/123 [==============================] - 0s 2ms/step - loss: 0.7427 - accuracy: 0.7988 - val_loss: 0.7470 - val_accuracy: 0.8008\n",
      "Epoch 79/100\n",
      "123/123 [==============================] - 0s 2ms/step - loss: 0.7426 - accuracy: 0.7988 - val_loss: 0.7470 - val_accuracy: 0.8008\n",
      "Epoch 80/100\n",
      "123/123 [==============================] - 0s 2ms/step - loss: 0.7426 - accuracy: 0.7988 - val_loss: 0.7469 - val_accuracy: 0.8008\n",
      "Epoch 81/100\n",
      "123/123 [==============================] - 0s 2ms/step - loss: 0.7425 - accuracy: 0.7988 - val_loss: 0.7469 - val_accuracy: 0.8008\n",
      "Epoch 82/100\n",
      "123/123 [==============================] - 0s 2ms/step - loss: 0.7424 - accuracy: 0.7988 - val_loss: 0.7469 - val_accuracy: 0.8008\n",
      "Epoch 83/100\n",
      "123/123 [==============================] - 0s 2ms/step - loss: 0.7423 - accuracy: 0.7988 - val_loss: 0.7468 - val_accuracy: 0.8008\n",
      "Epoch 84/100\n",
      "123/123 [==============================] - 0s 2ms/step - loss: 0.7423 - accuracy: 0.7988 - val_loss: 0.7468 - val_accuracy: 0.8008\n",
      "Epoch 85/100\n",
      "123/123 [==============================] - 0s 2ms/step - loss: 0.7422 - accuracy: 0.7988 - val_loss: 0.7468 - val_accuracy: 0.8008\n",
      "Epoch 86/100\n",
      "123/123 [==============================] - 0s 2ms/step - loss: 0.7421 - accuracy: 0.7988 - val_loss: 0.7467 - val_accuracy: 0.8008\n",
      "Epoch 87/100\n",
      "123/123 [==============================] - 0s 2ms/step - loss: 0.7420 - accuracy: 0.7988 - val_loss: 0.7467 - val_accuracy: 0.8008\n",
      "Epoch 88/100\n",
      "123/123 [==============================] - 0s 2ms/step - loss: 0.7420 - accuracy: 0.7988 - val_loss: 0.7467 - val_accuracy: 0.8008\n",
      "Epoch 89/100\n",
      "123/123 [==============================] - 0s 2ms/step - loss: 0.7419 - accuracy: 0.7988 - val_loss: 0.7466 - val_accuracy: 0.8008\n",
      "Epoch 90/100\n",
      "123/123 [==============================] - 0s 2ms/step - loss: 0.7418 - accuracy: 0.7988 - val_loss: 0.7466 - val_accuracy: 0.8008\n",
      "Epoch 91/100\n",
      "123/123 [==============================] - 0s 2ms/step - loss: 0.7418 - accuracy: 0.7988 - val_loss: 0.7466 - val_accuracy: 0.8008\n",
      "Epoch 92/100\n",
      "123/123 [==============================] - 0s 2ms/step - loss: 0.7417 - accuracy: 0.7988 - val_loss: 0.7465 - val_accuracy: 0.8008\n",
      "Epoch 93/100\n",
      "123/123 [==============================] - 0s 2ms/step - loss: 0.7417 - accuracy: 0.7988 - val_loss: 0.7465 - val_accuracy: 0.8008\n",
      "Epoch 94/100\n",
      "123/123 [==============================] - 0s 2ms/step - loss: 0.7416 - accuracy: 0.7988 - val_loss: 0.7465 - val_accuracy: 0.8008\n",
      "Epoch 95/100\n",
      "123/123 [==============================] - 0s 2ms/step - loss: 0.7415 - accuracy: 0.7988 - val_loss: 0.7465 - val_accuracy: 0.8008\n",
      "Epoch 96/100\n",
      "123/123 [==============================] - 0s 2ms/step - loss: 0.7415 - accuracy: 0.7988 - val_loss: 0.7464 - val_accuracy: 0.8008\n",
      "Epoch 97/100\n",
      "123/123 [==============================] - 0s 2ms/step - loss: 0.7414 - accuracy: 0.7988 - val_loss: 0.7464 - val_accuracy: 0.8008\n",
      "Epoch 98/100\n",
      "123/123 [==============================] - 0s 2ms/step - loss: 0.7413 - accuracy: 0.7988 - val_loss: 0.7464 - val_accuracy: 0.8008\n",
      "Epoch 99/100\n",
      "123/123 [==============================] - 0s 2ms/step - loss: 0.7413 - accuracy: 0.7988 - val_loss: 0.7464 - val_accuracy: 0.8008\n",
      "Epoch 100/100\n",
      "123/123 [==============================] - 0s 2ms/step - loss: 0.7412 - accuracy: 0.7988 - val_loss: 0.7463 - val_accuracy: 0.8008\n",
      "16/16 [==============================] - 0s 1ms/step - loss: 0.7611 - accuracy: 0.7882\n",
      "Test accuracy: 0.7881873846054077\n"
     ]
    }
   ],
   "source": [
    "history = model.fit(X_train,y_train,epochs=100,validation_data=(X_val,y_val))\n",
    "test_loss, test_acc = model.evaluate(X_test,y_test)\n",
    "print('Test accuracy:', test_acc)"
   ]
  },
  {
   "cell_type": "code",
   "execution_count": null,
   "metadata": {},
   "outputs": [],
   "source": [
    "w"
   ]
  },
  {
   "cell_type": "code",
   "execution_count": null,
   "metadata": {},
   "outputs": [],
   "source": [
    "reviews.head()"
   ]
  },
  {
   "cell_type": "code",
   "execution_count": null,
   "metadata": {},
   "outputs": [],
   "source": [
    "X = reviews['reviewText']\n",
    "y = reviews['overall']\n"
   ]
  },
  {
   "cell_type": "code",
   "execution_count": null,
   "metadata": {},
   "outputs": [],
   "source": [
    "print('Total number of reviews for this profuct is: ', reviews.shape[0])\n",
    "print('Number of reviews in training set is: ', X_train.shape[0])\n",
    "print('Number of reviews in validation set is: ', X_val.shape[0])\n",
    "print('Number of reviews in test set is: ', X_test.shape[0])"
   ]
  }
 ],
 "metadata": {
  "kernelspec": {
   "display_name": "Python 3",
   "language": "python",
   "name": "python3"
  },
  "language_info": {
   "codemirror_mode": {
    "name": "ipython",
    "version": 3
   },
   "file_extension": ".py",
   "mimetype": "text/x-python",
   "name": "python",
   "nbconvert_exporter": "python",
   "pygments_lexer": "ipython3",
   "version": "3.8.10"
  },
  "orig_nbformat": 4
 },
 "nbformat": 4,
 "nbformat_minor": 2
}
