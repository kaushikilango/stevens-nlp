{
 "cells": [
  {
   "cell_type": "markdown",
   "metadata": {},
   "source": [
    "Name: Kaushik Ilango  \n",
    "CWID: 20011241  \n",
    "Course: Natural Language Processing  \n",
    "\n",
    "Last homework (HW1) I completed the assignment by considering each data point as is that is with the target variable with the range of 1-5. Now I am attempting to complete this assignment by converting the range of target variables to binaries. So overall > 3 will be set to 1 and remaining targets are set to 0. I am not ignoring the rating = 3 rows for this prediction\n",
    "\n",
    "I am re-using the some of the code and comments from my first homework (HW1)"
   ]
  },
  {
   "cell_type": "markdown",
   "metadata": {},
   "source": [
    "First obviously we import some basic but necessary libraries for preprocessing and array manipulation."
   ]
  },
  {
   "cell_type": "code",
   "execution_count": 118,
   "metadata": {},
   "outputs": [],
   "source": [
    "import pandas as pd\n",
    "import numpy as np\n",
    "from tqdm import tqdm as tq"
   ]
  },
  {
   "cell_type": "markdown",
   "metadata": {},
   "source": [
    "I am gonna use the pandas library to import the provide dataset into this program variable."
   ]
  },
  {
   "cell_type": "code",
   "execution_count": 119,
   "metadata": {},
   "outputs": [],
   "source": [
    "amz_rev = pd.read_csv('amazon_reviews.csv')"
   ]
  },
  {
   "cell_type": "markdown",
   "metadata": {},
   "source": [
    "Let's do some analysis of the product that was reviewed using some simple commands on the amz_rev dataset"
   ]
  },
  {
   "cell_type": "code",
   "execution_count": 120,
   "metadata": {},
   "outputs": [
    {
     "data": {
      "text/html": [
       "<div>\n",
       "<style scoped>\n",
       "    .dataframe tbody tr th:only-of-type {\n",
       "        vertical-align: middle;\n",
       "    }\n",
       "\n",
       "    .dataframe tbody tr th {\n",
       "        vertical-align: top;\n",
       "    }\n",
       "\n",
       "    .dataframe thead th {\n",
       "        text-align: right;\n",
       "    }\n",
       "</style>\n",
       "<table border=\"1\" class=\"dataframe\">\n",
       "  <thead>\n",
       "    <tr style=\"text-align: right;\">\n",
       "      <th></th>\n",
       "      <th>overall</th>\n",
       "      <th>reviewText</th>\n",
       "    </tr>\n",
       "  </thead>\n",
       "  <tbody>\n",
       "    <tr>\n",
       "      <th>0</th>\n",
       "      <td>4</td>\n",
       "      <td>No issues.</td>\n",
       "    </tr>\n",
       "    <tr>\n",
       "      <th>1</th>\n",
       "      <td>5</td>\n",
       "      <td>Purchased this for my device, it worked as adv...</td>\n",
       "    </tr>\n",
       "    <tr>\n",
       "      <th>2</th>\n",
       "      <td>4</td>\n",
       "      <td>it works as expected. I should have sprung for...</td>\n",
       "    </tr>\n",
       "    <tr>\n",
       "      <th>3</th>\n",
       "      <td>5</td>\n",
       "      <td>This think has worked out great.Had a diff. br...</td>\n",
       "    </tr>\n",
       "    <tr>\n",
       "      <th>4</th>\n",
       "      <td>5</td>\n",
       "      <td>Bought it with Retail Packaging, arrived legit...</td>\n",
       "    </tr>\n",
       "  </tbody>\n",
       "</table>\n",
       "</div>"
      ],
      "text/plain": [
       "   overall                                         reviewText\n",
       "0        4                                         No issues.\n",
       "1        5  Purchased this for my device, it worked as adv...\n",
       "2        4  it works as expected. I should have sprung for...\n",
       "3        5  This think has worked out great.Had a diff. br...\n",
       "4        5  Bought it with Retail Packaging, arrived legit..."
      ]
     },
     "execution_count": 120,
     "metadata": {},
     "output_type": "execute_result"
    }
   ],
   "source": [
    "amz_rev.head()"
   ]
  },
  {
   "cell_type": "markdown",
   "metadata": {},
   "source": [
    "As we can see there are just two columns (attributes) for each row so just the review statement and the rating. Now let's see the average rating of the product."
   ]
  },
  {
   "cell_type": "code",
   "execution_count": 121,
   "metadata": {},
   "outputs": [
    {
     "data": {
      "text/plain": [
       "4.587589013224822"
      ]
     },
     "execution_count": 121,
     "metadata": {},
     "output_type": "execute_result"
    }
   ],
   "source": [
    "sum(amz_rev['overall'])/len(amz_rev['overall'])"
   ]
  },
  {
   "cell_type": "markdown",
   "metadata": {},
   "source": [
    "I am going to convert the target variables to binaries so we can continue with the analytics."
   ]
  },
  {
   "cell_type": "code",
   "execution_count": 122,
   "metadata": {},
   "outputs": [],
   "source": [
    "def convert_to_binaries(data) -> pd.DataFrame:\n",
    "    \n",
    "    data['overall'] = data['overall'].apply(lambda x: 1 if x > 3 else 0)\n",
    "    return data"
   ]
  },
  {
   "cell_type": "code",
   "execution_count": 123,
   "metadata": {},
   "outputs": [],
   "source": [
    "amz_rev = convert_to_binaries(amz_rev)"
   ]
  },
  {
   "cell_type": "code",
   "execution_count": 124,
   "metadata": {},
   "outputs": [],
   "source": [
    "import seaborn as sns\n",
    "import matplotlib.pyplot as plt\n",
    "sns.set_theme(style=\"darkgrid\")\n",
    "def plot_count(y,xlabel):\n",
    "    ax = sns.countplot(x = y)\n",
    "    for p in ax.patches:\n",
    "        ax.annotate(f'{p.get_height()}', (p.get_x() + p.get_width() / 2., p.get_height()), ha='center', va='baseline')\n",
    "    ax.set_xlabel(xlabel,fontsize=15)"
   ]
  },
  {
   "cell_type": "code",
   "execution_count": 125,
   "metadata": {},
   "outputs": [
    {
     "data": {
      "image/png": "[encoded data removed]",
      "text/plain": [
       "<Figure size 640x480 with 1 Axes>"
      ]
     },
     "metadata": {},
     "output_type": "display_data"
    }
   ],
   "source": [
    "plot_count(amz_rev['overall'],'Rating')\n",
    "plt.show()"
   ]
  },
  {
   "cell_type": "markdown",
   "metadata": {},
   "source": [
    "Before we can retrieve more data let's tokenize the review statements so we can gather more insights. For this I am going to directly use the nltk.tokenize module and more specifically the RegexpTokenizer to make it more processable by the model."
   ]
  },
  {
   "cell_type": "code",
   "execution_count": 126,
   "metadata": {},
   "outputs": [],
   "source": [
    "from nltk.tokenize import RegexpTokenizer\n",
    "from nltk.corpus import stopwords\n",
    "\n",
    "stop_words = set(stopwords.words('english'))\n",
    "def setup_data(corpus):\n",
    "    print(\"Cleaning data ... \")\n",
    "    cleaned_corpus = []\n",
    "    count = 0\n",
    "    for doc in tq(corpus):\n",
    "        tokenizer = RegexpTokenizer(r'\\w+')\n",
    "        cleaned_corpus.append(tokenizer.tokenize(doc.lower()))\n",
    "        count = count + 1\n",
    "    print(f\"Done cleaning {count} data\")\n",
    "    return cleaned_corpus"
   ]
  },
  {
   "cell_type": "code",
   "execution_count": 127,
   "metadata": {},
   "outputs": [
    {
     "name": "stdout",
     "output_type": "stream",
     "text": [
      "Cleaning data ... \n"
     ]
    },
    {
     "name": "stderr",
     "output_type": "stream",
     "text": [
      "100%|██████████| 4915/4915 [00:00<00:00, 35199.25it/s]"
     ]
    },
    {
     "name": "stdout",
     "output_type": "stream",
     "text": [
      "Done cleaning 4915 data\n"
     ]
    },
    {
     "name": "stderr",
     "output_type": "stream",
     "text": [
      "\n"
     ]
    }
   ],
   "source": [
    "amz_rev['reviewText'] = amz_rev['reviewText'].replace(np.nan, 'NA', regex=True)\n",
    "tokenized_data = setup_data(np.array(amz_rev['reviewText']))"
   ]
  },
  {
   "cell_type": "markdown",
   "metadata": {},
   "source": [
    "Now we can see the most max used words and least used words to draw some insights."
   ]
  },
  {
   "cell_type": "code",
   "execution_count": 129,
   "metadata": {},
   "outputs": [],
   "source": [
    "def draw_insights(corpus):\n",
    "    min = 0\n",
    "    max = 0\n",
    "    total = 0\n",
    "    for doc in corpus:\n",
    "        if len(doc) < min:\n",
    "            min = len(doc)\n",
    "        if len(doc) > max:\n",
    "            max = len(doc)\n",
    "        total = total + len(doc)\n",
    "    avg = total/len(corpus)\n",
    "    print(f\"Min: {min}, Max: {max}, Avg: {avg}\")\n",
    "\n"
   ]
  },
  {
   "cell_type": "code",
   "execution_count": 130,
   "metadata": {},
   "outputs": [
    {
     "name": "stdout",
     "output_type": "stream",
     "text": [
      "Min: 0, Max: 1599, Avg: 52.11088504577823\n"
     ]
    }
   ],
   "source": [
    "draw_insights(tokenized_data)"
   ]
  },
  {
   "cell_type": "markdown",
   "metadata": {},
   "source": [
    "The above results show that the users are dedicated to give a proper review of the product since the avg is at around 52 words which approximately is around 5 lines. Now let's split the data into three parts."
   ]
  },
  {
   "cell_type": "code",
   "execution_count": 132,
   "metadata": {},
   "outputs": [],
   "source": [
    "from sklearn.model_selection import train_test_split\n",
    "def train_test_val_split(X,y, test_size=0.1, val_size = 0.1,random_state=16):\n",
    "    total_test_size = test_size + val_size\n",
    "    X_train, X_t, y_train, y_t = train_test_split(X, y, test_size=total_test_size, random_state=random_state)\n",
    "    X_val, X_test, y_val, y_test = train_test_split(X_t, y_t, test_size=test_size/total_test_size, random_state=random_state)\n",
    "    return X_train, X_val, X_test, y_train, y_val, y_test\n"
   ]
  },
  {
   "cell_type": "markdown",
   "metadata": {},
   "source": [
    "The above function is just a modified function of the usual train_test_split method in model_selection module which I have developed to provide the validation data set as well."
   ]
  },
  {
   "cell_type": "code",
   "execution_count": 133,
   "metadata": {},
   "outputs": [],
   "source": [
    "X_train, X_val, X_test, y_train, y_val, y_test = train_test_val_split(tokenized_data, np.array(amz_rev['overall']))"
   ]
  },
  {
   "cell_type": "markdown",
   "metadata": {},
   "source": [
    "Let's run the analysis for the same Train, Test and Validation Data sets"
   ]
  },
  {
   "cell_type": "code",
   "execution_count": 134,
   "metadata": {},
   "outputs": [
    {
     "data": {
      "image/png": "[encoded data removed]",
      "text/plain": [
       "<Figure size 640x480 with 3 Axes>"
      ]
     },
     "metadata": {},
     "output_type": "display_data"
    }
   ],
   "source": [
    "plt.subplot(2,2,1)\n",
    "plot_count(y_train,xlabel=\"Train Set Overall Ratings\")\n",
    "plt.subplot(2,2,2)\n",
    "plot_count(y_val,xlabel=\"Validation Set Overall Ratings\")\n",
    "plt.subplot(2,2,3)\n",
    "plot_count(y_test,xlabel=\"Test Set Overall Ratings\")\n",
    "plt.tight_layout()\n",
    "plt.show()"
   ]
  },
  {
   "cell_type": "markdown",
   "metadata": {},
   "source": [
    "Now let's jump into the preprocessing and setting up our embeddings to develop a model. As we have already preprocessed our data using the ```setup_data``` funtion we can use the output to develop a model. Now let's develop a function for retrievinf the vocabulary. There are many ways to do it but I am following the assignment guidelines and using a list comprehension to complete the task."
   ]
  },
  {
   "cell_type": "code",
   "execution_count": 135,
   "metadata": {},
   "outputs": [],
   "source": [
    "def get_vocab(corpus):\n",
    "    vocab = []\n",
    "    vocab = [x for line in corpus for x in line]\n",
    "    vocab = list(set(vocab))\n",
    "    vocab = sorted(vocab)\n",
    "    return vocab"
   ]
  },
  {
   "cell_type": "markdown",
   "metadata": {},
   "source": [
    "I have also sorted the words since it was asked to do so which I guess would help in word2index and embedding."
   ]
  },
  {
   "cell_type": "code",
   "execution_count": 136,
   "metadata": {},
   "outputs": [],
   "source": [
    "vocab = get_vocab(tokenized_data)"
   ]
  },
  {
   "cell_type": "markdown",
   "metadata": {},
   "source": [
    "Now let's further dive in and do the complicated part of computing the co-occurence matrix of the whole dataset which would allow us to embed the data and find similarities."
   ]
  },
  {
   "cell_type": "code",
   "execution_count": 141,
   "metadata": {},
   "outputs": [],
   "source": [
    "def compute_co_occurence_matrix(corpus,window_size =4):\n",
    "    word2index = {}\n",
    "    v = get_vocab(corpus)\n",
    "    for i in v:\n",
    "        word2index[i] = v.index(i)\n",
    "    print(f\"Number of unique words {len(v)}\")\n",
    "    x = len(v)\n",
    "    M = np.zeros((x,x),dtype = 'float32')\n",
    "    print(M.shape)\n",
    "    print(\"Computing pairs...\")\n",
    "    for review in tq(corpus):\n",
    "        for i in range(len(review)):\n",
    "            for j in range(max(0,i-window_size),min(i+window_size,len(review))):\n",
    "                if i!=j:\n",
    "                    M[word2index[review[i]],word2index[review[j]]] += 1\n",
    "    return M,word2index"
   ]
  },
  {
   "cell_type": "code",
   "execution_count": 142,
   "metadata": {},
   "outputs": [
    {
     "name": "stdout",
     "output_type": "stream",
     "text": [
      "Number of unique words 8516\n",
      "(8516, 8516)\n",
      "Computing pairs...\n"
     ]
    },
    {
     "name": "stderr",
     "output_type": "stream",
     "text": [
      "100%|██████████| 4915/4915 [00:05<00:00, 954.08it/s] \n"
     ]
    }
   ],
   "source": [
    "M,word2index = compute_co_occurence_matrix(tokenized_data)"
   ]
  },
  {
   "cell_type": "markdown",
   "metadata": {},
   "source": [
    "Now we have successfully implemented the co-occurence matrix. Now let's try to reduce the dimensions using SVD in specific as mentioned in the assignment we have to use TruncatedSVD."
   ]
  },
  {
   "cell_type": "markdown",
   "metadata": {},
   "source": [
    "FYI, I have used float in the Matrix because its easier for numpy to process and decompose it to lower dimensions than working with integers"
   ]
  },
  {
   "cell_type": "code",
   "execution_count": 143,
   "metadata": {},
   "outputs": [],
   "source": [
    "from sklearn.decomposition import TruncatedSVD\n",
    "def reduce_to_k_dim(M,k=2):\n",
    "    print(f\"Reducing to {k} dimensions...\")\n",
    "    svd = TruncatedSVD(n_components=k, n_iter=10, random_state=16)\n",
    "    M_reduced = svd.fit_transform(M)\n",
    "    return M_reduced"
   ]
  },
  {
   "cell_type": "code",
   "execution_count": 144,
   "metadata": {},
   "outputs": [
    {
     "name": "stdout",
     "output_type": "stream",
     "text": [
      "Reducing to 2 dimensions...\n"
     ]
    }
   ],
   "source": [
    "M_reduced = reduce_to_k_dim(M)"
   ]
  },
  {
   "cell_type": "markdown",
   "metadata": {},
   "source": [
    "As mentioned in the assignment we can plot the words using the indices an the 2-d matrix which will provide us with the (x,y) co-ordinates."
   ]
  },
  {
   "cell_type": "code",
   "execution_count": 145,
   "metadata": {},
   "outputs": [],
   "source": [
    "def plot_embeddings(M_reduced,word2index,words_to_plot):\n",
    "    x = []\n",
    "    y = []\n",
    "    for word in words_to_plot:\n",
    "        index = word2index[word]\n",
    "        x.append(M_reduced[index,0])\n",
    "        y.append(M_reduced[index,1])\n",
    "    labels = words_to_plot\n",
    "    sns.scatterplot(x =x,y = y)\n",
    "    plt.grid(True)\n",
    "    for i, label in enumerate(labels):\n",
    "        plt.annotate(label, (x[i], y[i]), textcoords=\"offset points\", xytext=(0,10), ha='center')"
   ]
  },
  {
   "cell_type": "code",
   "execution_count": 146,
   "metadata": {},
   "outputs": [
    {
     "data": {
      "image/png": "[encoded data removed]",
      "text/plain": [
       "<Figure size 640x480 with 1 Axes>"
      ]
     },
     "metadata": {},
     "output_type": "display_data"
    }
   ],
   "source": [
    "plot_embeddings(M_reduced,word2index,words_to_plot=[\"purchase\", \"buy\", \"work\", \"got\", \"ordered\", \"received\", \"product\", \"item\", \"deal\", \"use\"])"
   ]
  },
  {
   "cell_type": "markdown",
   "metadata": {},
   "source": [
    "I am not going to add the gensim loaders and pretrained models for this assignments as they are not related to this objective of this homework"
   ]
  },
  {
   "cell_type": "markdown",
   "metadata": {},
   "source": [
    "Now let's write a definition for computing the average of each word in the review to get a review embedding"
   ]
  },
  {
   "cell_type": "code",
   "execution_count": 149,
   "metadata": {},
   "outputs": [],
   "source": [
    "def review_embedding(M,word2index,tokenized_reviews):\n",
    "    print(M_128.shape)\n",
    "    review_embeddings = []\n",
    "    embeddings_shape = []\n",
    "    print(\"Computing review embeddings...\")\n",
    "    for review in tq(tokenized_reviews):\n",
    "        embedding = np.mean([M[word2index[w]] for w in review],axis = 0)\n",
    "        embeddings_shape.append(embedding.shape)\n",
    "        review_embeddings.append(embedding)\n",
    "    f = [x for x in embeddings_shape if x != (128,)]\n",
    "    if f:\n",
    "        print(f\"Warning: {len(f)} review embeddings have shape other than (128,)\")\n",
    "    else:   \n",
    "        print(\"All review embeddings have shape (128,)\")\n",
    "    print(\"Done.\")\n",
    "    return review_embeddings     \n"
   ]
  },
  {
   "cell_type": "markdown",
   "metadata": {},
   "source": [
    "Now let's use our embeddings model (co-occurence matrix) to develop a predictive model for the given data set. Let's reduce the dimensions of the matrix M to 128 dimensions to provide more information while still optimizing our run time. I am printing out the shapes just for deubbing since I was getting some errors. But it shows that the each word of shape 128 has been averaged in the review."
   ]
  },
  {
   "cell_type": "code",
   "execution_count": 150,
   "metadata": {},
   "outputs": [
    {
     "name": "stdout",
     "output_type": "stream",
     "text": [
      "Reducing to 128 dimensions...\n",
      "(8516, 128)\n",
      "Computing review embeddings...\n"
     ]
    },
    {
     "name": "stderr",
     "output_type": "stream",
     "text": [
      "100%|██████████| 4915/4915 [00:00<00:00, 20896.71it/s]"
     ]
    },
    {
     "name": "stdout",
     "output_type": "stream",
     "text": [
      "All review embeddings have shape (128,)\n",
      "Done.\n"
     ]
    },
    {
     "name": "stderr",
     "output_type": "stream",
     "text": [
      "\n"
     ]
    }
   ],
   "source": [
    "M_128 = reduce_to_k_dim(M,k=128)\n",
    "review_embeddings = review_embedding(M_128,word2index,tokenized_data)"
   ]
  },
  {
   "cell_type": "markdown",
   "metadata": {},
   "source": [
    "Converting it into a numpy array to make it faster for computation."
   ]
  },
  {
   "cell_type": "code",
   "execution_count": 151,
   "metadata": {},
   "outputs": [
    {
     "data": {
      "text/plain": [
       "(4915, 128)"
      ]
     },
     "execution_count": 151,
     "metadata": {},
     "output_type": "execute_result"
    }
   ],
   "source": [
    "review_embeddings = np.array(review_embeddings)\n",
    "review_embeddings.shape"
   ]
  },
  {
   "cell_type": "markdown",
   "metadata": {},
   "source": [
    "Now this is our feature dataset which we can use to develop models"
   ]
  },
  {
   "cell_type": "code",
   "execution_count": 152,
   "metadata": {},
   "outputs": [],
   "source": [
    "X_train, X_val, X_test, y_train, y_val, y_test = train_test_val_split(review_embeddings, np.array(amz_rev['overall']))"
   ]
  },
  {
   "cell_type": "markdown",
   "metadata": {},
   "source": [
    "Let's first build a logistic regression model using scikit library. Since this is multilabel (1-5) we need to set some parameters in the regressor."
   ]
  },
  {
   "cell_type": "code",
   "execution_count": 153,
   "metadata": {},
   "outputs": [],
   "source": [
    "from sklearn.preprocessing import StandardScaler\n",
    "\n",
    "scaler = StandardScaler()\n",
    "X_train = scaler.fit_transform(X_train)\n",
    "X_val = scaler.transform(X_val)\n",
    "X_test = scaler.transform(X_test)"
   ]
  },
  {
   "cell_type": "markdown",
   "metadata": {},
   "source": [
    "Now we have the complete pre-processed data we can move on to the model training and model development part. Here we are asked to build an LSTM model as let's do that with pytorch"
   ]
  },
  {
   "cell_type": "code",
   "execution_count": 155,
   "metadata": {},
   "outputs": [],
   "source": [
    "import tensorflow as tf\n",
    "from tensorflow import keras\n",
    "from tensorflow.keras import layers"
   ]
  },
  {
   "cell_type": "code",
   "execution_count": null,
   "metadata": {},
   "outputs": [],
   "source": []
  }
 ],
 "metadata": {
  "kernelspec": {
   "display_name": "Python 3",
   "language": "python",
   "name": "python3"
  },
  "language_info": {
   "codemirror_mode": {
    "name": "ipython",
    "version": 3
   },
   "file_extension": ".py",
   "mimetype": "text/x-python",
   "name": "python",
   "nbconvert_exporter": "python",
   "pygments_lexer": "ipython3",
   "version": "3.8.10"
  }
 },
 "nbformat": 4,
 "nbformat_minor": 2
}
